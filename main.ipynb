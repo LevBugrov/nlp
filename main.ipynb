{
 "cells": [
  {
   "cell_type": "code",
   "execution_count": 85,
   "metadata": {},
   "outputs": [],
   "source": [
    "from selenium.webdriver import Chrome\n",
    "from selenium.webdriver.chrome.options import Options\n",
    "\n",
    "from time import sleep\n",
    "import tqdm\n",
    "import json\n",
    "import time\n",
    "\n",
    "import requests\n",
    "from bs4 import BeautifulSoup\n",
    "from html2text import html2text\n",
    "\n",
    "import pandas as pd\n",
    "\n",
    "from sklearn.feature_extraction.text import CountVectorizer\n",
    "from selenium.webdriver.common.by import By"
   ]
  },
  {
   "cell_type": "code",
   "execution_count": 86,
   "metadata": {},
   "outputs": [],
   "source": [
    "import warnings\n",
    "warnings.filterwarnings('ignore')"
   ]
  },
  {
   "cell_type": "markdown",
   "metadata": {},
   "source": [
    "## 1. Парсинг URL адресов с новостями (Selenium)"
   ]
  },
  {
   "cell_type": "code",
   "execution_count": 87,
   "metadata": {},
   "outputs": [],
   "source": [
    "#Download driver using the link at the top of the notebook\n",
    "chrome_driver_path = r\"chromedriver_win32\\chromedriver.exe\"\n",
    "links_filename = \"links.txt\""
   ]
  },
  {
   "cell_type": "code",
   "execution_count": 100,
   "metadata": {},
   "outputs": [],
   "source": [
    "categories = [\"politic\", \"society\", \"accident\", \"conflict\"]\n",
    "cat_translate = {\"Политика\":\"politic\", \n",
    "                 \"Общество\":\"society\", \n",
    "                 'Происшествия':\"accident\", \n",
    "                 \"Конфликты\":\"conflict\",\n",
    "                 'Преступность':\"crime\"\n",
    "                 }\n"
   ]
  },
  {
   "cell_type": "code",
   "execution_count": 89,
   "metadata": {},
   "outputs": [],
   "source": [
    "# установка ublock чтобы это расширение было установлено по умолчанию\n",
    "\n",
    "# options = Options()\n",
    "# options.add_argument(\"user-data-dir=C:\\\\profile\")\n",
    "# driver = Chrome(chrome_options=options)\n",
    "# driver.get(\"https://google.com\")"
   ]
  },
  {
   "cell_type": "code",
   "execution_count": 90,
   "metadata": {},
   "outputs": [
    {
     "name": "stdout",
     "output_type": "stream",
     "text": [
      "Current session is d1a0bc69a807cf0f029ae73d59cb6465\n"
     ]
    }
   ],
   "source": [
    "URL = r\"https://lenta.ru/rubrics/world/\"\n",
    "start_time = time.time()\n",
    "\n",
    "def connect():\n",
    "    chrome_options = Options()\n",
    "    chrome_options.add_argument(\"user-data-dir=C:\\\\profile\")\n",
    "    chrome_options.add_argument('--disable-application-cache')\n",
    "    driver = Chrome(executable_path=chrome_driver_path, chrome_options=chrome_options)\n",
    "    driver.implicitly_wait(5)\n",
    "    \n",
    "    print(f\"Current session is {driver.session_id}\")\n",
    "    # print(\"now time:\", time.time()-start_time)\n",
    "    # driver.get(url)\n",
    "    # time.sleep(3)\n",
    "\n",
    "    return driver\n",
    "\n",
    "\n",
    "def get_links_from_one_page(driver, url):\n",
    "    driver.get(url)\n",
    "    time.sleep(5)\n",
    "    \n",
    "    recipe_links = []\n",
    "    for i in range(1, 3):\n",
    "        a = driver.find_element(By.XPATH, f\"/html/body/div[3]/div[3]/main/div/section/ul/li[{i}]/a\")\n",
    "        # print(\"now time:\", time.time()-start_time)\n",
    "        recipe_links.append(a.get_attribute(\"href\"))\n",
    "    return recipe_links\n",
    "\n",
    "\n",
    "driver = connect()\n",
    "\n",
    "for category in categories:\n",
    "    links = []\n",
    "    \n",
    "    for page in range(1, 3):\n",
    "        \n",
    "        # print(\"now time1:\", time.time() - start_time)\n",
    "        links.extend(get_links_from_one_page(driver, URL + category + f\"/{page}/\"))\n",
    "        # print(\"now time2:\", time.time() - start_time)\n",
    "        # driver.close()\n",
    "        # print(\"now time3:\", time.time() - start_time)\n",
    "        # print(links)\n",
    "\n",
    "    with open(links_filename, \"a\") as file:\n",
    "        for link in links:\n",
    "            file.write(link + \"\\n\")"
   ]
  },
  {
   "attachments": {},
   "cell_type": "markdown",
   "metadata": {},
   "source": [
    "## 2. Парсинг новостей (BeautifulSoup)"
   ]
  },
  {
   "cell_type": "code",
   "execution_count": 91,
   "metadata": {},
   "outputs": [],
   "source": [
    "posts = []\n",
    "with open(links_filename) as file:\n",
    "    for line in file:\n",
    "        posts.append(line[:-1])"
   ]
  },
  {
   "cell_type": "code",
   "execution_count": 92,
   "metadata": {},
   "outputs": [
    {
     "data": {
      "text/plain": [
       "'https://lenta.ru/news/2023/01/17/vccvk/'"
      ]
     },
     "execution_count": 92,
     "metadata": {},
     "output_type": "execute_result"
    }
   ],
   "source": [
    "posts[0]"
   ]
  },
  {
   "cell_type": "code",
   "execution_count": 93,
   "metadata": {},
   "outputs": [],
   "source": [
    "df = pd.DataFrame(columns=[\"link\", \"category\", \"title\", \"text\"])"
   ]
  },
  {
   "cell_type": "code",
   "execution_count": 101,
   "metadata": {},
   "outputs": [],
   "source": [
    "index = 0 \n",
    "\n",
    "for post in posts:\n",
    "    resp = requests.get(post)\n",
    "    soup = BeautifulSoup(resp.text, 'lxml')\n",
    "    \n",
    "    title = soup.title.text\n",
    "    sep_position = title.find(\":\") \n",
    "    category = title[sep_position+2 : title.find(\":\", sep_position+1)]\n",
    "    category = cat_translate[category]\n",
    "    title = title[ : sep_position]\n",
    "\n",
    "    text = soup.find(\"div\", class_ = \"topic-body__content\").get_text()\n",
    "\n",
    "    df.loc[index] = [post, category, title, text] \n",
    "    index += 1"
   ]
  },
  {
   "cell_type": "code",
   "execution_count": 98,
   "metadata": {},
   "outputs": [
    {
     "data": {
      "text/plain": [
       "'accident'"
      ]
     },
     "execution_count": 98,
     "metadata": {},
     "output_type": "execute_result"
    }
   ],
   "source": []
  },
  {
   "cell_type": "markdown",
   "metadata": {},
   "source": [
    "## 3. Обзор полученных данных"
   ]
  },
  {
   "cell_type": "code",
   "execution_count": 103,
   "metadata": {},
   "outputs": [
    {
     "data": {
      "text/html": [
       "<div>\n",
       "<style scoped>\n",
       "    .dataframe tbody tr th:only-of-type {\n",
       "        vertical-align: middle;\n",
       "    }\n",
       "\n",
       "    .dataframe tbody tr th {\n",
       "        vertical-align: top;\n",
       "    }\n",
       "\n",
       "    .dataframe thead th {\n",
       "        text-align: right;\n",
       "    }\n",
       "</style>\n",
       "<table border=\"1\" class=\"dataframe\">\n",
       "  <thead>\n",
       "    <tr style=\"text-align: right;\">\n",
       "      <th></th>\n",
       "      <th>link</th>\n",
       "      <th>category</th>\n",
       "      <th>title</th>\n",
       "      <th>text</th>\n",
       "    </tr>\n",
       "  </thead>\n",
       "  <tbody>\n",
       "    <tr>\n",
       "      <th>count</th>\n",
       "      <td>286</td>\n",
       "      <td>286</td>\n",
       "      <td>286</td>\n",
       "      <td>286</td>\n",
       "    </tr>\n",
       "    <tr>\n",
       "      <th>unique</th>\n",
       "      <td>236</td>\n",
       "      <td>5</td>\n",
       "      <td>236</td>\n",
       "      <td>236</td>\n",
       "    </tr>\n",
       "    <tr>\n",
       "      <th>top</th>\n",
       "      <td>https://lenta.ru/news/2023/01/17/zaderzhan/</td>\n",
       "      <td>politic</td>\n",
       "      <td>Проигравшего на выборах республиканца задержал...</td>\n",
       "      <td>Полиция города Альбукерке в Штате Нью-Мексико ...</td>\n",
       "    </tr>\n",
       "    <tr>\n",
       "      <th>freq</th>\n",
       "      <td>4</td>\n",
       "      <td>149</td>\n",
       "      <td>4</td>\n",
       "      <td>4</td>\n",
       "    </tr>\n",
       "  </tbody>\n",
       "</table>\n",
       "</div>"
      ],
      "text/plain": [
       "                                               link category  \\\n",
       "count                                           286      286   \n",
       "unique                                          236        5   \n",
       "top     https://lenta.ru/news/2023/01/17/zaderzhan/  politic   \n",
       "freq                                              4      149   \n",
       "\n",
       "                                                    title  \\\n",
       "count                                                 286   \n",
       "unique                                                236   \n",
       "top     Проигравшего на выборах республиканца задержал...   \n",
       "freq                                                    4   \n",
       "\n",
       "                                                     text  \n",
       "count                                                 286  \n",
       "unique                                                236  \n",
       "top     Полиция города Альбукерке в Штате Нью-Мексико ...  \n",
       "freq                                                    4  "
      ]
     },
     "execution_count": 103,
     "metadata": {},
     "output_type": "execute_result"
    }
   ],
   "source": [
    "df.describe()"
   ]
  },
  {
   "cell_type": "code",
   "execution_count": 102,
   "metadata": {},
   "outputs": [
    {
     "data": {
      "text/html": [
       "<div>\n",
       "<style scoped>\n",
       "    .dataframe tbody tr th:only-of-type {\n",
       "        vertical-align: middle;\n",
       "    }\n",
       "\n",
       "    .dataframe tbody tr th {\n",
       "        vertical-align: top;\n",
       "    }\n",
       "\n",
       "    .dataframe thead th {\n",
       "        text-align: right;\n",
       "    }\n",
       "</style>\n",
       "<table border=\"1\" class=\"dataframe\">\n",
       "  <thead>\n",
       "    <tr style=\"text-align: right;\">\n",
       "      <th></th>\n",
       "      <th>link</th>\n",
       "      <th>category</th>\n",
       "      <th>title</th>\n",
       "      <th>text</th>\n",
       "    </tr>\n",
       "  </thead>\n",
       "  <tbody>\n",
       "    <tr>\n",
       "      <th>0</th>\n",
       "      <td>https://lenta.ru/news/2023/01/17/vccvk/</td>\n",
       "      <td>politic</td>\n",
       "      <td>Вучич осудил контакты сербских активистов с ЧВК</td>\n",
       "      <td>Президент Сербии Александр Вучич осудил контак...</td>\n",
       "    </tr>\n",
       "    <tr>\n",
       "      <th>1</th>\n",
       "      <td>https://lenta.ru/news/2023/01/17/strategy/</td>\n",
       "      <td>politic</td>\n",
       "      <td>В США заявили о кровавой стратегии Вашингтона ...</td>\n",
       "      <td>Соединенные Штаты используют Украину как пешку...</td>\n",
       "    </tr>\n",
       "    <tr>\n",
       "      <th>2</th>\n",
       "      <td>https://lenta.ru/news/2023/01/17/tur_swe/</td>\n",
       "      <td>politic</td>\n",
       "      <td>Турция назвала условие для вступления Швеции в...</td>\n",
       "      <td>Швеция не может ожидать поддержки Турции в воп...</td>\n",
       "    </tr>\n",
       "    <tr>\n",
       "      <th>3</th>\n",
       "      <td>https://lenta.ru/news/2023/01/16/pomni_imya_svoe/</td>\n",
       "      <td>politic</td>\n",
       "      <td>Байден забыл имя юбилярши и выкрутился</td>\n",
       "      <td>Президент США Джо Байден забыл имя правозащитн...</td>\n",
       "    </tr>\n",
       "    <tr>\n",
       "      <th>4</th>\n",
       "      <td>https://lenta.ru/news/2023/01/17/proof/</td>\n",
       "      <td>politic</td>\n",
       "      <td>Суд в Италии запросил у США дополнительные док...</td>\n",
       "      <td>Суд в Италии запросил у США дополнительные док...</td>\n",
       "    </tr>\n",
       "  </tbody>\n",
       "</table>\n",
       "</div>"
      ],
      "text/plain": [
       "                                                link category  \\\n",
       "0            https://lenta.ru/news/2023/01/17/vccvk/  politic   \n",
       "1         https://lenta.ru/news/2023/01/17/strategy/  politic   \n",
       "2          https://lenta.ru/news/2023/01/17/tur_swe/  politic   \n",
       "3  https://lenta.ru/news/2023/01/16/pomni_imya_svoe/  politic   \n",
       "4            https://lenta.ru/news/2023/01/17/proof/  politic   \n",
       "\n",
       "                                               title  \\\n",
       "0    Вучич осудил контакты сербских активистов с ЧВК   \n",
       "1  В США заявили о кровавой стратегии Вашингтона ...   \n",
       "2  Турция назвала условие для вступления Швеции в...   \n",
       "3             Байден забыл имя юбилярши и выкрутился   \n",
       "4  Суд в Италии запросил у США дополнительные док...   \n",
       "\n",
       "                                                text  \n",
       "0  Президент Сербии Александр Вучич осудил контак...  \n",
       "1  Соединенные Штаты используют Украину как пешку...  \n",
       "2  Швеция не может ожидать поддержки Турции в воп...  \n",
       "3  Президент США Джо Байден забыл имя правозащитн...  \n",
       "4  Суд в Италии запросил у США дополнительные док...  "
      ]
     },
     "execution_count": 102,
     "metadata": {},
     "output_type": "execute_result"
    }
   ],
   "source": [
    "df.head()"
   ]
  },
  {
   "cell_type": "markdown",
   "metadata": {},
   "source": [
    "## 4. Конвертирование в JSON формат"
   ]
  },
  {
   "cell_type": "code",
   "execution_count": 104,
   "metadata": {},
   "outputs": [],
   "source": [
    "js = json.loads(df.to_json(force_ascii=False, orient='records'))"
   ]
  },
  {
   "cell_type": "code",
   "execution_count": 105,
   "metadata": {
    "scrolled": true
   },
   "outputs": [],
   "source": [
    "with open('corpus.json', 'w') as file:\n",
    "    for i in js:\n",
    "        file.write(json.dumps(i) + '\\n')\n"
   ]
  },
  {
   "cell_type": "code",
   "execution_count": null,
   "metadata": {},
   "outputs": [],
   "source": []
  }
 ],
 "metadata": {
  "kernelspec": {
   "display_name": "nlp",
   "language": "python",
   "name": "python3"
  },
  "language_info": {
   "codemirror_mode": {
    "name": "ipython",
    "version": 3
   },
   "file_extension": ".py",
   "mimetype": "text/x-python",
   "name": "python",
   "nbconvert_exporter": "python",
   "pygments_lexer": "ipython3",
   "version": "3.10.1"
  },
  "orig_nbformat": 4,
  "vscode": {
   "interpreter": {
    "hash": "4f8ff26e257f4c3403349e9c866708a06193071d449d58a80d259a524617c612"
   }
  }
 },
 "nbformat": 4,
 "nbformat_minor": 2
}
