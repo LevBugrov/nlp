{
 "cells": [
  {
   "cell_type": "code",
   "execution_count": 1,
   "metadata": {},
   "outputs": [],
   "source": [
    "from selenium.webdriver import Chrome\n",
    "from selenium.webdriver.chrome.options import Options\n",
    "\n",
    "from time import sleep\n",
    "import tqdm\n",
    "import json\n",
    "import time\n",
    "\n",
    "import requests\n",
    "from bs4 import BeautifulSoup\n",
    "from html2text import html2text\n",
    "\n",
    "import pandas as pd\n",
    "\n",
    "from sklearn.feature_extraction.text import CountVectorizer\n",
    "from selenium.webdriver.common.by import By"
   ]
  },
  {
   "cell_type": "code",
   "execution_count": 2,
   "metadata": {},
   "outputs": [],
   "source": [
    "import warnings\n",
    "warnings.filterwarnings('ignore')"
   ]
  },
  {
   "cell_type": "markdown",
   "metadata": {},
   "source": [
    "## 1. Парсинг URL адресов с новостями (Selenium)"
   ]
  },
  {
   "cell_type": "code",
   "execution_count": 3,
   "metadata": {},
   "outputs": [],
   "source": [
    "#Download driver using the link at the top of the notebook\n",
    "chrome_driver_path = r\"chromedriver_win32\\chromedriver.exe\"\n",
    "links_filename = \"links.txt\""
   ]
  },
  {
   "cell_type": "code",
   "execution_count": 38,
   "metadata": {},
   "outputs": [],
   "source": [
    "categories = [\"politics\", \"world\", \"economy\", \"society\"]\n",
    "categories_rus = [\"Политика\", 'В мире', \"Общество\", \"Экономика\"]\n",
    "cat_translate = {\"Политика\":\"politic\", \n",
    "                 \"Общество\":\"society\", \n",
    "                 'В мире':\"world\", \n",
    "                 \"Экономика\":\"economy\"\n",
    "                 }\n"
   ]
  },
  {
   "cell_type": "code",
   "execution_count": 5,
   "metadata": {},
   "outputs": [],
   "source": [
    "# установка ublock чтобы это расширение было установлено по умолчанию\n",
    "\n",
    "# options = Options()\n",
    "# options.add_argument(\"user-data-dir=C:\\\\profile\")\n",
    "# driver = Chrome(chrome_options=options)\n",
    "# driver.get(\"https://google.com\")"
   ]
  },
  {
   "cell_type": "code",
   "execution_count": 8,
   "metadata": {},
   "outputs": [
    {
     "name": "stdout",
     "output_type": "stream",
     "text": [
      "Current session is 1213761c19ecdc547e9487f1880ec9b3\n",
      "https://ria.ru/politics/\n",
      "https://ria.ru/world/\n",
      "https://ria.ru/economy/\n",
      "https://ria.ru/society/\n"
     ]
    }
   ],
   "source": [
    "# URL = r\"https://lenta.ru/rubrics/world/\"\n",
    "URL= \"https://ria.ru/\"\n",
    "\n",
    "\n",
    "def connect():\n",
    "    chrome_options = Options()\n",
    "    chrome_options.add_argument(\"user-data-dir=C:\\\\profile\")\n",
    "    chrome_options.add_argument('--disable-application-cache')\n",
    "    driver = Chrome(executable_path=chrome_driver_path, chrome_options=chrome_options)\n",
    "    driver.implicitly_wait(5)\n",
    "    \n",
    "    print(f\"Current session is {driver.session_id}\")\n",
    "    # print(\"now time:\", time.time()-start_time)\n",
    "    # driver.get(url)\n",
    "    # time.sleep(3)\n",
    "\n",
    "    return driver\n",
    "\n",
    "\n",
    "def get_links_from_one_page(driver, url):\n",
    "    driver.get(url)\n",
    "    time.sleep(5)\n",
    "    \n",
    "    recipe_links = []\n",
    "    \n",
    "    driver.execute_script(\"window.scrollTo(0, document.body.scrollHeight);\")\n",
    "    time.sleep(3)\n",
    "    button = driver.find_element(By.XPATH, \"/html/body/div[10]/div[2]/div/div[4]/div/div[1]/div/div[3]\")\n",
    "    button.click()\n",
    "    time.sleep(3)\n",
    "                                    \n",
    "    for i in range(1, 1300):\n",
    "        \n",
    "        if (i !=5):\n",
    "            a = driver.find_element(By.XPATH, f'/html/body/div[10]/div[2]/div/div[4]/div/div[1]/div/div[2]/div[{i}]/div[1]/a[2]')\n",
    "                                            # /html/body/div[10]/div[2]/div/div[4]/div/div[1]/div/div[2]/div[6]/div[1]/a[2]\n",
    "                                            # /html/body/div[10]/div[2]/div/div[4]/div/div[1]/div/div[2]/div[21]/div[1]/a[2]\n",
    "                                            # /html/body/div[10]/div[2]/div/div[4]/div/div[1]/div/div[2]/div[62]/div[1]/a[2]\n",
    "        # print(\"now time:\", time.time()-start_time)\n",
    "        recipe_links.append(a.get_attribute(\"href\"))\n",
    "        if(i%10==0):\n",
    "            driver.execute_script(\"window.scrollTo(0, document.body.scrollHeight);\")\n",
    "            time.sleep(2)\n",
    "            \n",
    "    return recipe_links\n",
    "\n",
    "# очистка файла с ссылками\n",
    "with open(links_filename, \"w\") as file:\n",
    "    pass\n",
    "\n",
    "driver = connect()\n",
    "\n",
    "# links = get_links_from_one_page(driver, URL)\n",
    "\n",
    "for category in categories:\n",
    "    # print(\"now time1:\", time.time() - start_time)\n",
    "    url = URL+category+\"/\"\n",
    "    print(url)\n",
    "    links = get_links_from_one_page(driver, url)\n",
    "    # print(\"now time2:\", time.time() - start_time)\n",
    "    # driver.close()\n",
    "    # print(\"now time3:\", time.time() - start_time)\n",
    "    # print(links)\n",
    "\n",
    "    with open(links_filename, \"a\") as file:\n",
    "        for link in links:\n",
    "            file.write(link + \"\\n\")"
   ]
  },
  {
   "attachments": {},
   "cell_type": "markdown",
   "metadata": {},
   "source": [
    "## 2. Парсинг новостей (BeautifulSoup)"
   ]
  },
  {
   "cell_type": "code",
   "execution_count": 29,
   "metadata": {},
   "outputs": [],
   "source": [
    "posts = []\n",
    "with open(links_filename) as file:\n",
    "    for line in file:\n",
    "        posts.append(line[:-1])"
   ]
  },
  {
   "cell_type": "code",
   "execution_count": 33,
   "metadata": {},
   "outputs": [
    {
     "data": {
      "text/plain": [
       "'https://ria.ru/20230111/politubezhische-1844137535.html'"
      ]
     },
     "execution_count": 33,
     "metadata": {},
     "output_type": "execute_result"
    }
   ],
   "source": [
    "posts[100]"
   ]
  },
  {
   "cell_type": "code",
   "execution_count": 51,
   "metadata": {},
   "outputs": [],
   "source": [
    "df = pd.DataFrame(columns=[\"article_id\", \"title\", \"category\", \"tags\" , \"text\"])"
   ]
  },
  {
   "cell_type": "code",
   "execution_count": 52,
   "metadata": {},
   "outputs": [
    {
     "name": "stdout",
     "output_type": "stream",
     "text": [
      "500/5196\n",
      "1000/5196\n",
      "1500/5196\n",
      "2000/5196\n",
      "2500/5196\n"
     ]
    },
    {
     "ename": "IndexError",
     "evalue": "list index out of range",
     "output_type": "error",
     "traceback": [
      "\u001b[1;31m---------------------------------------------------------------------------\u001b[0m",
      "\u001b[1;31mIndexError\u001b[0m                                Traceback (most recent call last)",
      "Cell \u001b[1;32mIn[52], line 23\u001b[0m\n\u001b[0;32m     21\u001b[0m         \u001b[39mbreak\u001b[39;00m\n\u001b[0;32m     22\u001b[0m \u001b[39mif\u001b[39;00m \u001b[39mnot\u001b[39;00m category:    \n\u001b[1;32m---> 23\u001b[0m     category \u001b[39m=\u001b[39m tags[\u001b[39m0\u001b[39;49m]\n\u001b[0;32m     24\u001b[0m tags \u001b[39m=\u001b[39m \u001b[39m\"\u001b[39m\u001b[39m,\u001b[39m\u001b[39m\"\u001b[39m\u001b[39m.\u001b[39mjoin(tags)\n\u001b[0;32m     26\u001b[0m \u001b[39mtry\u001b[39;00m:\n",
      "\u001b[1;31mIndexError\u001b[0m: list index out of range"
     ]
    }
   ],
   "source": [
    "index = 0 \n",
    "\n",
    "for post in posts:\n",
    "    # print(post)\n",
    "    resp = requests.get(post)\n",
    "    soup = BeautifulSoup(resp.text, 'lxml')\n",
    "    \n",
    "    \n",
    "    title = soup.title.text\n",
    "    \n",
    "    sep_position = title.find(\" - \") \n",
    "    title = title[ : sep_position]\n",
    "    # print(title)\n",
    "    \n",
    "    tags = soup.find_all(\"a\", class_ = \"article__tags-item\")#.get_text()\n",
    "    tags = [tag.get_text() for tag in tags]\n",
    "    category = ''\n",
    "    for cat in categories_rus:\n",
    "        if cat in tags:\n",
    "            category = cat_translate[cat]\n",
    "            break\n",
    "    if not category:    \n",
    "        category = tags[0]\n",
    "    tags = \",\".join(tags)\n",
    "    \n",
    "    try:\n",
    "        text = soup.find(\"div\", class_ = \"article__body js-mediator-article mia-analytics\").get_text()\n",
    "    except:\n",
    "        continue\n",
    "    \n",
    "    df.loc[index] = [post, title, category,tags,  text] \n",
    "    index += 1\n",
    "    if (index%500 == 0):\n",
    "        print(f\"{index}/5196\")"
   ]
  },
  {
   "cell_type": "code",
   "execution_count": 53,
   "metadata": {},
   "outputs": [
    {
     "data": {
      "text/plain": [
       "2802"
      ]
     },
     "execution_count": 53,
     "metadata": {},
     "output_type": "execute_result"
    }
   ],
   "source": [
    "# нет тегов поэтому я проигнорирую эту ссылку и продолжу с того места где остановился индекс\n",
    "# спасибо хотя бы переменные не обнуляются при вознокновении ошибки\n",
    "index"
   ]
  },
  {
   "cell_type": "code",
   "execution_count": 57,
   "metadata": {},
   "outputs": [
    {
     "name": "stdout",
     "output_type": "stream",
     "text": [
      "3000/5196\n",
      "3500/5196\n",
      "4000/5196\n",
      "4500/5196\n",
      "5000/5196\n"
     ]
    }
   ],
   "source": [
    "index = 2803\n",
    "\n",
    "for post in posts[index+1:]:\n",
    "    # print(post)\n",
    "    resp = requests.get(post)\n",
    "    soup = BeautifulSoup(resp.text, 'lxml')\n",
    "    \n",
    "    \n",
    "    title = soup.title.text\n",
    "    \n",
    "    sep_position = title.find(\" - \") \n",
    "    title = title[ : sep_position]\n",
    "    # print(title)\n",
    "    \n",
    "    tags = soup.find_all(\"a\", class_ = \"article__tags-item\")#.get_text()\n",
    "    tags = [tag.get_text() for tag in tags]\n",
    "    category = ''\n",
    "    for cat in categories_rus:\n",
    "        if cat in tags:\n",
    "            category = cat_translate[cat]\n",
    "            break\n",
    "    if not category:    \n",
    "        category = tags[0]\n",
    "    tags = \",\".join(tags)\n",
    "    \n",
    "    try:\n",
    "        text = soup.find(\"div\", class_ = \"article__body js-mediator-article mia-analytics\").get_text()\n",
    "    except:\n",
    "        continue\n",
    "    \n",
    "    df.loc[index] = [post, title, category,tags,  text] \n",
    "    index += 1\n",
    "    if (index%500 == 0):\n",
    "        print(f\"{index}/5196\")"
   ]
  },
  {
   "cell_type": "code",
   "execution_count": 58,
   "metadata": {},
   "outputs": [
    {
     "data": {
      "text/html": [
       "<div>\n",
       "<style scoped>\n",
       "    .dataframe tbody tr th:only-of-type {\n",
       "        vertical-align: middle;\n",
       "    }\n",
       "\n",
       "    .dataframe tbody tr th {\n",
       "        vertical-align: top;\n",
       "    }\n",
       "\n",
       "    .dataframe thead th {\n",
       "        text-align: right;\n",
       "    }\n",
       "</style>\n",
       "<table border=\"1\" class=\"dataframe\">\n",
       "  <thead>\n",
       "    <tr style=\"text-align: right;\">\n",
       "      <th></th>\n",
       "      <th>article_id</th>\n",
       "      <th>title</th>\n",
       "      <th>category</th>\n",
       "      <th>tags</th>\n",
       "      <th>text</th>\n",
       "    </tr>\n",
       "  </thead>\n",
       "  <tbody>\n",
       "    <tr>\n",
       "      <th>0</th>\n",
       "      <td>https://ria.ru/20230117/vsu-1845593558.html</td>\n",
       "      <td>Экс-советник Пентагона заявил о панике в ВСУ и...</td>\n",
       "      <td>politic</td>\n",
       "      <td>Политика,Россия,Министерство обороны США,Воору...</td>\n",
       "      <td>МОСКВА, 17 янв — РИА Новости. ВСУ оказались в ...</td>\n",
       "    </tr>\n",
       "    <tr>\n",
       "      <th>1</th>\n",
       "      <td>https://ria.ru/20230117/peregovory-1845587705....</td>\n",
       "      <td>В Киеве заявили об условиях для рассмотрения п...</td>\n",
       "      <td>politic</td>\n",
       "      <td>Политика,Россия,Украина,Владимир Зеленский,Мих...</td>\n",
       "      <td>МОСКВА, 17 янв — РИА Новости. Украина не проти...</td>\n",
       "    </tr>\n",
       "    <tr>\n",
       "      <th>2</th>\n",
       "      <td>https://ria.ru/20230117/pomosch-1845585234.html</td>\n",
       "      <td>В ГД внесут проект о совершенствовании правово...</td>\n",
       "      <td>politic</td>\n",
       "      <td>Россия,Госдума РФ,Политика,Василий Пискарев,Ге...</td>\n",
       "      <td>МОСКВА, 17 янв – РИА Новости. В ближайшее врем...</td>\n",
       "    </tr>\n",
       "    <tr>\n",
       "      <th>3</th>\n",
       "      <td>https://ria.ru/20230117/nato-1845581407.html</td>\n",
       "      <td>Express: Путин получил возможность потопить НА...</td>\n",
       "      <td>politic</td>\n",
       "      <td>Политика,Владимир Путин,Россия,НАТО,Великобрит...</td>\n",
       "      <td>МОСКВА, 17 янв — РИА Новости. Россия может уст...</td>\n",
       "    </tr>\n",
       "    <tr>\n",
       "      <th>4</th>\n",
       "      <td>https://ria.ru/20230117/nato-1845581407.html</td>\n",
       "      <td>Express: Путин получил возможность потопить НА...</td>\n",
       "      <td>politic</td>\n",
       "      <td>Политика,Владимир Путин,Россия,НАТО,Великобрит...</td>\n",
       "      <td>МОСКВА, 17 янв — РИА Новости. Россия может уст...</td>\n",
       "    </tr>\n",
       "    <tr>\n",
       "      <th>...</th>\n",
       "      <td>...</td>\n",
       "      <td>...</td>\n",
       "      <td>...</td>\n",
       "      <td>...</td>\n",
       "      <td>...</td>\n",
       "    </tr>\n",
       "    <tr>\n",
       "      <th>5590</th>\n",
       "      <td>https://ria.ru/20230111/elektromobil-184411236...</td>\n",
       "      <td>\"АвтоВАЗ\" может начать производство электромоб...</td>\n",
       "      <td>economy</td>\n",
       "      <td>Экономика,Санкт-Петербург,АвтоВАЗ,Концерн ПВО ...</td>\n",
       "      <td>МОСКВА, 11 янв - РИА Новости. \"АвтоВАЗ\" готов ...</td>\n",
       "    </tr>\n",
       "    <tr>\n",
       "      <th>5591</th>\n",
       "      <td>https://ria.ru/20230111/rubli-1844099434.html</td>\n",
       "      <td>Рубль усилил рост</td>\n",
       "      <td>economy</td>\n",
       "      <td>Ситуация с курсами валют и ценами на нефть,Эко...</td>\n",
       "      <td>МОСКВА, 11 янв - РИА Новости. Рубль усилил рос...</td>\n",
       "    </tr>\n",
       "    <tr>\n",
       "      <th>5592</th>\n",
       "      <td>https://ria.ru/20230111/neft-1844096324.html</td>\n",
       "      <td>Индии будет трудно отказаться от покупки нефти...</td>\n",
       "      <td>world</td>\n",
       "      <td>Экономика,Индия,Россия,Urals,Brent,БКС Мир инв...</td>\n",
       "      <td>МОСКВА, 11 янв - РИА Новости. Индия особенно ч...</td>\n",
       "    </tr>\n",
       "    <tr>\n",
       "      <th>5593</th>\n",
       "      <td>https://ria.ru/20230111/valyuta-1844093607.html</td>\n",
       "      <td>ЦБ возобновит операции на валютном рынке в рам...</td>\n",
       "      <td>economy</td>\n",
       "      <td>Экономика,Россия,Центральный Банк РФ (ЦБ РФ),М...</td>\n",
       "      <td>МОСКВА, 11 янв — РИА Новости. Центробанк возоб...</td>\n",
       "    </tr>\n",
       "    <tr>\n",
       "      <th>5594</th>\n",
       "      <td>https://ria.ru/20230111/potolok-1844091967.html</td>\n",
       "      <td>В Кремле прокомментировали данные о финансовых...</td>\n",
       "      <td>economy</td>\n",
       "      <td>Экономика,Евросоюз,Россия,Хельсинки,Австралия,...</td>\n",
       "      <td>МОСКВА, 11 янв - РИА Новости. Относиться к зак...</td>\n",
       "    </tr>\n",
       "  </tbody>\n",
       "</table>\n",
       "<p>5593 rows × 5 columns</p>\n",
       "</div>"
      ],
      "text/plain": [
       "                                             article_id  \\\n",
       "0           https://ria.ru/20230117/vsu-1845593558.html   \n",
       "1     https://ria.ru/20230117/peregovory-1845587705....   \n",
       "2       https://ria.ru/20230117/pomosch-1845585234.html   \n",
       "3          https://ria.ru/20230117/nato-1845581407.html   \n",
       "4          https://ria.ru/20230117/nato-1845581407.html   \n",
       "...                                                 ...   \n",
       "5590  https://ria.ru/20230111/elektromobil-184411236...   \n",
       "5591      https://ria.ru/20230111/rubli-1844099434.html   \n",
       "5592       https://ria.ru/20230111/neft-1844096324.html   \n",
       "5593    https://ria.ru/20230111/valyuta-1844093607.html   \n",
       "5594    https://ria.ru/20230111/potolok-1844091967.html   \n",
       "\n",
       "                                                  title category  \\\n",
       "0     Экс-советник Пентагона заявил о панике в ВСУ и...  politic   \n",
       "1     В Киеве заявили об условиях для рассмотрения п...  politic   \n",
       "2     В ГД внесут проект о совершенствовании правово...  politic   \n",
       "3     Express: Путин получил возможность потопить НА...  politic   \n",
       "4     Express: Путин получил возможность потопить НА...  politic   \n",
       "...                                                 ...      ...   \n",
       "5590  \"АвтоВАЗ\" может начать производство электромоб...  economy   \n",
       "5591                                  Рубль усилил рост  economy   \n",
       "5592  Индии будет трудно отказаться от покупки нефти...    world   \n",
       "5593  ЦБ возобновит операции на валютном рынке в рам...  economy   \n",
       "5594  В Кремле прокомментировали данные о финансовых...  economy   \n",
       "\n",
       "                                                   tags  \\\n",
       "0     Политика,Россия,Министерство обороны США,Воору...   \n",
       "1     Политика,Россия,Украина,Владимир Зеленский,Мих...   \n",
       "2     Россия,Госдума РФ,Политика,Василий Пискарев,Ге...   \n",
       "3     Политика,Владимир Путин,Россия,НАТО,Великобрит...   \n",
       "4     Политика,Владимир Путин,Россия,НАТО,Великобрит...   \n",
       "...                                                 ...   \n",
       "5590  Экономика,Санкт-Петербург,АвтоВАЗ,Концерн ПВО ...   \n",
       "5591  Ситуация с курсами валют и ценами на нефть,Эко...   \n",
       "5592  Экономика,Индия,Россия,Urals,Brent,БКС Мир инв...   \n",
       "5593  Экономика,Россия,Центральный Банк РФ (ЦБ РФ),М...   \n",
       "5594  Экономика,Евросоюз,Россия,Хельсинки,Австралия,...   \n",
       "\n",
       "                                                   text  \n",
       "0     МОСКВА, 17 янв — РИА Новости. ВСУ оказались в ...  \n",
       "1     МОСКВА, 17 янв — РИА Новости. Украина не проти...  \n",
       "2     МОСКВА, 17 янв – РИА Новости. В ближайшее врем...  \n",
       "3     МОСКВА, 17 янв — РИА Новости. Россия может уст...  \n",
       "4     МОСКВА, 17 янв — РИА Новости. Россия может уст...  \n",
       "...                                                 ...  \n",
       "5590  МОСКВА, 11 янв - РИА Новости. \"АвтоВАЗ\" готов ...  \n",
       "5591  МОСКВА, 11 янв - РИА Новости. Рубль усилил рос...  \n",
       "5592  МОСКВА, 11 янв - РИА Новости. Индия особенно ч...  \n",
       "5593  МОСКВА, 11 янв — РИА Новости. Центробанк возоб...  \n",
       "5594  МОСКВА, 11 янв - РИА Новости. Относиться к зак...  \n",
       "\n",
       "[5593 rows x 5 columns]"
      ]
     },
     "execution_count": 58,
     "metadata": {},
     "output_type": "execute_result"
    }
   ],
   "source": [
    "df.drop(labels = [5200],axis = 0)"
   ]
  },
  {
   "cell_type": "markdown",
   "metadata": {},
   "source": [
    "## 3. Обзор полученных данных"
   ]
  },
  {
   "cell_type": "code",
   "execution_count": 65,
   "metadata": {},
   "outputs": [
    {
     "ename": "AttributeError",
     "evalue": "'DataFrame' object has no attribute 'ilok'",
     "output_type": "error",
     "traceback": [
      "\u001b[1;31m---------------------------------------------------------------------------\u001b[0m",
      "\u001b[1;31mAttributeError\u001b[0m                            Traceback (most recent call last)",
      "Cell \u001b[1;32mIn[65], line 1\u001b[0m\n\u001b[1;32m----> 1\u001b[0m df\u001b[39m.\u001b[39;49milok[[\u001b[39m5201\u001b[39m]]\n",
      "File \u001b[1;32mc:\\folder\\vs_code\\nlp\\nlp\\lib\\site-packages\\pandas\\core\\generic.py:5902\u001b[0m, in \u001b[0;36mNDFrame.__getattr__\u001b[1;34m(self, name)\u001b[0m\n\u001b[0;32m   5895\u001b[0m \u001b[39mif\u001b[39;00m (\n\u001b[0;32m   5896\u001b[0m     name \u001b[39mnot\u001b[39;00m \u001b[39min\u001b[39;00m \u001b[39mself\u001b[39m\u001b[39m.\u001b[39m_internal_names_set\n\u001b[0;32m   5897\u001b[0m     \u001b[39mand\u001b[39;00m name \u001b[39mnot\u001b[39;00m \u001b[39min\u001b[39;00m \u001b[39mself\u001b[39m\u001b[39m.\u001b[39m_metadata\n\u001b[0;32m   5898\u001b[0m     \u001b[39mand\u001b[39;00m name \u001b[39mnot\u001b[39;00m \u001b[39min\u001b[39;00m \u001b[39mself\u001b[39m\u001b[39m.\u001b[39m_accessors\n\u001b[0;32m   5899\u001b[0m     \u001b[39mand\u001b[39;00m \u001b[39mself\u001b[39m\u001b[39m.\u001b[39m_info_axis\u001b[39m.\u001b[39m_can_hold_identifiers_and_holds_name(name)\n\u001b[0;32m   5900\u001b[0m ):\n\u001b[0;32m   5901\u001b[0m     \u001b[39mreturn\u001b[39;00m \u001b[39mself\u001b[39m[name]\n\u001b[1;32m-> 5902\u001b[0m \u001b[39mreturn\u001b[39;00m \u001b[39mobject\u001b[39;49m\u001b[39m.\u001b[39;49m\u001b[39m__getattribute__\u001b[39;49m(\u001b[39mself\u001b[39;49m, name)\n",
      "\u001b[1;31mAttributeError\u001b[0m: 'DataFrame' object has no attribute 'ilok'"
     ]
    }
   ],
   "source": [
    "df.ilok[[5201]]"
   ]
  },
  {
   "cell_type": "code",
   "execution_count": 43,
   "metadata": {},
   "outputs": [
    {
     "data": {
      "text/html": [
       "<div>\n",
       "<style scoped>\n",
       "    .dataframe tbody tr th:only-of-type {\n",
       "        vertical-align: middle;\n",
       "    }\n",
       "\n",
       "    .dataframe tbody tr th {\n",
       "        vertical-align: top;\n",
       "    }\n",
       "\n",
       "    .dataframe thead th {\n",
       "        text-align: right;\n",
       "    }\n",
       "</style>\n",
       "<table border=\"1\" class=\"dataframe\">\n",
       "  <thead>\n",
       "    <tr style=\"text-align: right;\">\n",
       "      <th></th>\n",
       "      <th>article_id</th>\n",
       "      <th>title</th>\n",
       "      <th>category</th>\n",
       "      <th>tags</th>\n",
       "      <th>text</th>\n",
       "    </tr>\n",
       "  </thead>\n",
       "  <tbody>\n",
       "    <tr>\n",
       "      <th>count</th>\n",
       "      <td>24</td>\n",
       "      <td>24</td>\n",
       "      <td>24</td>\n",
       "      <td>24</td>\n",
       "      <td>24</td>\n",
       "    </tr>\n",
       "    <tr>\n",
       "      <th>unique</th>\n",
       "      <td>23</td>\n",
       "      <td>23</td>\n",
       "      <td>9</td>\n",
       "      <td>23</td>\n",
       "      <td>23</td>\n",
       "    </tr>\n",
       "    <tr>\n",
       "      <th>top</th>\n",
       "      <td>https://ria.ru/20230117/nato-1845581407.html</td>\n",
       "      <td>Express: Путин получил возможность потопить НА...</td>\n",
       "      <td>politic</td>\n",
       "      <td>Политика,Владимир Путин,Россия,НАТО,Великобрит...</td>\n",
       "      <td>МОСКВА, 17 янв — РИА Новости. Россия может уст...</td>\n",
       "    </tr>\n",
       "    <tr>\n",
       "      <th>freq</th>\n",
       "      <td>2</td>\n",
       "      <td>2</td>\n",
       "      <td>10</td>\n",
       "      <td>2</td>\n",
       "      <td>2</td>\n",
       "    </tr>\n",
       "  </tbody>\n",
       "</table>\n",
       "</div>"
      ],
      "text/plain": [
       "                                          article_id  \\\n",
       "count                                             24   \n",
       "unique                                            23   \n",
       "top     https://ria.ru/20230117/nato-1845581407.html   \n",
       "freq                                               2   \n",
       "\n",
       "                                                    title category  \\\n",
       "count                                                  24       24   \n",
       "unique                                                 23        9   \n",
       "top     Express: Путин получил возможность потопить НА...  politic   \n",
       "freq                                                    2       10   \n",
       "\n",
       "                                                     tags  \\\n",
       "count                                                  24   \n",
       "unique                                                 23   \n",
       "top     Политика,Владимир Путин,Россия,НАТО,Великобрит...   \n",
       "freq                                                    2   \n",
       "\n",
       "                                                     text  \n",
       "count                                                  24  \n",
       "unique                                                 23  \n",
       "top     МОСКВА, 17 янв — РИА Новости. Россия может уст...  \n",
       "freq                                                    2  "
      ]
     },
     "execution_count": 43,
     "metadata": {},
     "output_type": "execute_result"
    }
   ],
   "source": [
    "df.describe()"
   ]
  },
  {
   "cell_type": "code",
   "execution_count": 44,
   "metadata": {},
   "outputs": [
    {
     "data": {
      "text/html": [
       "<div>\n",
       "<style scoped>\n",
       "    .dataframe tbody tr th:only-of-type {\n",
       "        vertical-align: middle;\n",
       "    }\n",
       "\n",
       "    .dataframe tbody tr th {\n",
       "        vertical-align: top;\n",
       "    }\n",
       "\n",
       "    .dataframe thead th {\n",
       "        text-align: right;\n",
       "    }\n",
       "</style>\n",
       "<table border=\"1\" class=\"dataframe\">\n",
       "  <thead>\n",
       "    <tr style=\"text-align: right;\">\n",
       "      <th></th>\n",
       "      <th>article_id</th>\n",
       "      <th>title</th>\n",
       "      <th>category</th>\n",
       "      <th>tags</th>\n",
       "      <th>text</th>\n",
       "    </tr>\n",
       "  </thead>\n",
       "  <tbody>\n",
       "    <tr>\n",
       "      <th>0</th>\n",
       "      <td>https://ria.ru/20230117/vsu-1845593558.html</td>\n",
       "      <td>Экс-советник Пентагона заявил о панике в ВСУ и...</td>\n",
       "      <td>politic</td>\n",
       "      <td>Политика,Россия,Министерство обороны США,Воору...</td>\n",
       "      <td>МОСКВА, 17 янв — РИА Новости. ВСУ оказались в ...</td>\n",
       "    </tr>\n",
       "    <tr>\n",
       "      <th>1</th>\n",
       "      <td>https://ria.ru/20230117/peregovory-1845587705....</td>\n",
       "      <td>В Киеве заявили об условиях для рассмотрения п...</td>\n",
       "      <td>politic</td>\n",
       "      <td>Политика,Россия,Украина,Владимир Зеленский,Мих...</td>\n",
       "      <td>МОСКВА, 17 янв — РИА Новости. Украина не проти...</td>\n",
       "    </tr>\n",
       "    <tr>\n",
       "      <th>2</th>\n",
       "      <td>https://ria.ru/20230117/pomosch-1845585234.html</td>\n",
       "      <td>В ГД внесут проект о совершенствовании правово...</td>\n",
       "      <td>politic</td>\n",
       "      <td>Россия,Госдума РФ,Политика,Василий Пискарев,Ге...</td>\n",
       "      <td>МОСКВА, 17 янв – РИА Новости. В ближайшее врем...</td>\n",
       "    </tr>\n",
       "    <tr>\n",
       "      <th>3</th>\n",
       "      <td>https://ria.ru/20230117/nato-1845581407.html</td>\n",
       "      <td>Express: Путин получил возможность потопить НА...</td>\n",
       "      <td>politic</td>\n",
       "      <td>Политика,Владимир Путин,Россия,НАТО,Великобрит...</td>\n",
       "      <td>МОСКВА, 17 янв — РИА Новости. Россия может уст...</td>\n",
       "    </tr>\n",
       "    <tr>\n",
       "      <th>4</th>\n",
       "      <td>https://ria.ru/20230117/nato-1845581407.html</td>\n",
       "      <td>Express: Путин получил возможность потопить НА...</td>\n",
       "      <td>politic</td>\n",
       "      <td>Политика,Владимир Путин,Россия,НАТО,Великобрит...</td>\n",
       "      <td>МОСКВА, 17 янв — РИА Новости. Россия может уст...</td>\n",
       "    </tr>\n",
       "  </tbody>\n",
       "</table>\n",
       "</div>"
      ],
      "text/plain": [
       "                                          article_id  \\\n",
       "0        https://ria.ru/20230117/vsu-1845593558.html   \n",
       "1  https://ria.ru/20230117/peregovory-1845587705....   \n",
       "2    https://ria.ru/20230117/pomosch-1845585234.html   \n",
       "3       https://ria.ru/20230117/nato-1845581407.html   \n",
       "4       https://ria.ru/20230117/nato-1845581407.html   \n",
       "\n",
       "                                               title category  \\\n",
       "0  Экс-советник Пентагона заявил о панике в ВСУ и...  politic   \n",
       "1  В Киеве заявили об условиях для рассмотрения п...  politic   \n",
       "2  В ГД внесут проект о совершенствовании правово...  politic   \n",
       "3  Express: Путин получил возможность потопить НА...  politic   \n",
       "4  Express: Путин получил возможность потопить НА...  politic   \n",
       "\n",
       "                                                tags  \\\n",
       "0  Политика,Россия,Министерство обороны США,Воору...   \n",
       "1  Политика,Россия,Украина,Владимир Зеленский,Мих...   \n",
       "2  Россия,Госдума РФ,Политика,Василий Пискарев,Ге...   \n",
       "3  Политика,Владимир Путин,Россия,НАТО,Великобрит...   \n",
       "4  Политика,Владимир Путин,Россия,НАТО,Великобрит...   \n",
       "\n",
       "                                                text  \n",
       "0  МОСКВА, 17 янв — РИА Новости. ВСУ оказались в ...  \n",
       "1  МОСКВА, 17 янв — РИА Новости. Украина не проти...  \n",
       "2  МОСКВА, 17 янв – РИА Новости. В ближайшее врем...  \n",
       "3  МОСКВА, 17 янв — РИА Новости. Россия может уст...  \n",
       "4  МОСКВА, 17 янв — РИА Новости. Россия может уст...  "
      ]
     },
     "execution_count": 44,
     "metadata": {},
     "output_type": "execute_result"
    }
   ],
   "source": [
    "df.head()"
   ]
  },
  {
   "cell_type": "markdown",
   "metadata": {},
   "source": [
    "## 4. Конвертирование в JSON формат"
   ]
  },
  {
   "cell_type": "code",
   "execution_count": 104,
   "metadata": {},
   "outputs": [],
   "source": [
    "js = json.loads(df.to_json(force_ascii=False, orient='records'))"
   ]
  },
  {
   "cell_type": "code",
   "execution_count": 105,
   "metadata": {
    "scrolled": true
   },
   "outputs": [],
   "source": [
    "with open('news.json', 'w') as file:\n",
    "    for i in js:\n",
    "        file.write(json.dumps(i) + '\\n')\n"
   ]
  },
  {
   "cell_type": "code",
   "execution_count": null,
   "metadata": {},
   "outputs": [],
   "source": []
  }
 ],
 "metadata": {
  "kernelspec": {
   "display_name": "nlp",
   "language": "python",
   "name": "python3"
  },
  "language_info": {
   "codemirror_mode": {
    "name": "ipython",
    "version": 3
   },
   "file_extension": ".py",
   "mimetype": "text/x-python",
   "name": "python",
   "nbconvert_exporter": "python",
   "pygments_lexer": "ipython3",
   "version": "3.10.1"
  },
  "orig_nbformat": 4,
  "vscode": {
   "interpreter": {
    "hash": "f24bb39caffe032b3c80a6b680a96eaecbc960223fabb1c3a37444ca29474854"
   }
  }
 },
 "nbformat": 4,
 "nbformat_minor": 2
}
